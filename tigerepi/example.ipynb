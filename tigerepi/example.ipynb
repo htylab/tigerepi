{
 "cells": [
  {
   "cell_type": "code",
   "execution_count": null,
   "id": "2e2f0f7e",
   "metadata": {},
   "outputs": [],
   "source": [
    "import tigerepi\n",
    "\n",
    "tigerepi.seg('bmawk', r'c:\\\\b0.nii.gz', 'c:\\\\temp')\n",
    "tigerepi.vdm(r'c:\\\\b0.nii.gz', output='c:\\\\temp')"
   ]
  },
  {
   "cell_type": "code",
   "execution_count": null,
   "id": "960a83c3",
   "metadata": {},
   "outputs": [],
   "source": []
  }
 ],
 "metadata": {
  "kernelspec": {
   "display_name": "Python 3 (ipykernel)",
   "language": "python",
   "name": "python3"
  },
  "language_info": {
   "codemirror_mode": {
    "name": "ipython",
    "version": 3
   },
   "file_extension": ".py",
   "mimetype": "text/x-python",
   "name": "python",
   "nbconvert_exporter": "python",
   "pygments_lexer": "ipython3",
   "version": "3.7.10"
  }
 },
 "nbformat": 4,
 "nbformat_minor": 5
}
